{
 "cells": [
  {
   "cell_type": "markdown",
   "id": "7e608c09",
   "metadata": {},
   "source": [
    "# Lie Detection: Reliability of Relevant Predictors in Classifiers"
   ]
  },
  {
   "cell_type": "markdown",
   "id": "b3172474",
   "metadata": {},
   "source": [
    "[INTRODUCTION OF THE PROBLEM HERE]\n",
    "\n",
    "### Datasets:\n",
    "[ADD AND COMMENT ABOUT DATASETS HERE]\n",
    "### Tasks:\n",
    "[ADD TASK HERE]\n",
    "\n",
    "### Integrants:\n",
    "Name, Matricola, Email respectively\n",
    "- Santiago Víquez Segura, 2048722, santiago.viquezsegura@studenti.unipd.it\n",
    "- Phillippe Robert, 2041505, philippe.robert@studenti.unipd.it\n",
    "- Huzaifa Fazal,"
   ]
  },
  {
   "cell_type": "markdown",
   "id": "31dfaa69",
   "metadata": {},
   "source": [
    "## Dependencies"
   ]
  },
  {
   "cell_type": "code",
   "execution_count": 31,
   "id": "374029cb",
   "metadata": {},
   "outputs": [],
   "source": [
    "import numpy as np\n",
    "import pandas as pd\n",
    "import matplotlib.pyplot as plt\n",
    "import seaborn as sns\n",
    "from sklearn.model_selection import cross_validate\n",
    "from sklearn.ensemble import  RandomForestClassifier\n",
    "from sklearn.linear_model import LogisticRegression\n",
    "from sklearn.metrics import f1_score\n",
    "from xgboost import XGBClassifier\n",
    "from sklearn import svm\n",
    "import shap\n",
    "\n",
    "from matplotlib import rcParams\n",
    "# figure size in inches\n",
    "rcParams['figure.figsize'] = 11.7,8.27"
   ]
  },
  {
   "cell_type": "markdown",
   "id": "30838fe2",
   "metadata": {},
   "source": [
    "## Load datasets"
   ]
  },
  {
   "cell_type": "code",
   "execution_count": 32,
   "id": "16a54875",
   "metadata": {},
   "outputs": [],
   "source": [
    "BF_CTU_df = pd.read_csv(\"data/BF_df_CTU.csv\", delimiter=\",\")\n",
    "BF_OU_df = pd.read_csv(\"data/BF_df_OU.csv\", delimiter=\",\")\n",
    "BF_V_df = pd.read_csv(\"data/BF_df_V.csv\", delimiter=\",\")\n",
    "DT_CC_df = pd.read_csv(\"data/DT_df_CC.csv\", delimiter=\",\")\n",
    "DT_JI_df = pd.read_csv(\"data/DT_df_JI.csv\", delimiter=\";\")\n",
    "IADQ_df = pd.read_csv(\"data/IADQ_df.csv\", delimiter=\",\")\n",
    "IESR_df = pd.read_csv(\"data/IESR_df.csv\", delimiter=\",\")\n",
    "NAQR_df = pd.read_csv(\"data/NAQ_R_df.csv\", delimiter=\";\")\n",
    "PCL5_df = pd.read_csv(\"data/PCL5_df.csv\", delimiter=\";\")\n",
    "PHQ9_df = pd.read_csv(\"data/PHQ9_GAD7_df.csv\", delimiter=\";\")\n",
    "PID5_df = pd.read_csv(\"data/PID5_df.csv\", delimiter=\";\")\n",
    "PRFQ_df = pd.read_csv(\"data/PRFQ_df.csv\", delimiter=\",\")\n",
    "PRMQ_df = pd.read_csv(\"data/PRMQ_df.csv\", delimiter=\",\")\n",
    "DDDT_df = pd.read_csv(\"data/RAW_DDDT.CSV\", delimiter=\",\")\n",
    "SPID5_df = pd.read_csv(\"data/sPID-5_df.csv\", delimiter=\",\")\n",
    "RNEOPI_honest_df = pd.read_excel(\"data/Honest.xlsx\", header=1)\n",
    "RNEOPI_fake_df = pd.read_excel(\"data/Faked.xlsx\", header=1)"
   ]
  },
  {
   "cell_type": "markdown",
   "id": "067d2331",
   "metadata": {},
   "source": [
    "## Helper Functions"
   ]
  },
  {
   "cell_type": "code",
   "execution_count": 33,
   "id": "7855c96e",
   "metadata": {},
   "outputs": [],
   "source": [
    "def evaluate_clf(df, clf, cv):\n",
    "    \"\"\"\n",
    "    Performs cross-validation of a classifier over a dataset\n",
    "    \n",
    "    Args:\n",
    "        df: (pd.DataFrame) train dataset\n",
    "        clf: (sklearn fitted estimator)\n",
    "        cv: (int) number of folds\n",
    "        \n",
    "    Returns:\n",
    "        output: (dict) {fit_time:[...], score_time:[...], estimator:[...], test_score:[...]}\n",
    "    \"\"\"\n",
    "    X = df.loc[:, df.columns != 'CONDITION'] # select all columns except CONDITION\n",
    "    y = np.where(df[\"CONDITION\"] == \"H\", 1, 0)\n",
    "    output = cross_validate(clf, X, y, cv=cv, scoring='f1', return_estimator=True)\n",
    "    \n",
    "    return output"
   ]
  },
  {
   "cell_type": "code",
   "execution_count": 34,
   "id": "3a724e47",
   "metadata": {},
   "outputs": [],
   "source": [
    "def get_feature_importance(model_output):\n",
    "    \"\"\"\n",
    "    Averages feature importances / coefficient values from all the fitted estimators\n",
    "    \n",
    "    Args:\n",
    "        model_output: (list) sklearn fitted estimators\n",
    "    \n",
    "    Retruns: (dict) {predictor: value}\n",
    "    \"\"\"\n",
    "    \n",
    "    n_folds = len(output[\"estimator\"])\n",
    "    coeficients = 0\n",
    "    \n",
    "    for estimator in output[\"estimator\"]:\n",
    "        if isinstance(estimator, LogisticRegression) or isinstance(estimator, svm.SVC):\n",
    "            coeficients += estimator.coef_[0] # TODO: RF uses feature_importances insted of coef_\n",
    "        else:\n",
    "            coeficients += estimator.feature_importances_\n",
    "    coeficients = np.abs(coeficients/n_folds)\n",
    "    res = dict(zip(estimator.feature_names_in_, coeficients))\n",
    "\n",
    "    return res"
   ]
  },
  {
   "cell_type": "code",
   "execution_count": 35,
   "id": "cd1625e6",
   "metadata": {},
   "outputs": [],
   "source": [
    "def plot_feature_importance(feature_importance, title):\n",
    "    \"\"\"\n",
    "    Plots a bar chart of the importance/coefficients of the predictors\n",
    "    \n",
    "    Args:\n",
    "        feature_importance: (dict) dictionary with key:feature name and value:importance\n",
    "        title: (str) title of the chart\n",
    "    \"\"\"\n",
    "    \n",
    "    plt.bar(x=feature_importance.keys(), height=feature_importance.values())\n",
    "    plt.title(title)\n",
    "    plt.xlabel(\"Feature Name\")\n",
    "    plt.ylabel(\"Abs(Importance Score)\")\n",
    "    plt.show()"
   ]
  },
  {
   "cell_type": "code",
   "execution_count": 36,
   "id": "f99346c4",
   "metadata": {},
   "outputs": [],
   "source": [
    "def get_shap_values(clf, df, cv):\n",
    "    \"\"\"\n",
    "    Performs cross-validation of a classifier over a dataset\n",
    "    and computes the shap-values for each fold.\n",
    "    \n",
    "    Args:\n",
    "        df: (pd.DataFrame) train dataset\n",
    "        clf: (sklearn fitted estimator)\n",
    "        cv: (int) number of folds\n",
    "        \n",
    "    Returns:\n",
    "        output: (tuple) shap_values: (shap.Explainer), f1_score: float\n",
    "    \"\"\"\n",
    "    \n",
    "    X = df.loc[:, df.columns != 'CONDITION'] # select all columns except CONDITION\n",
    "    y = np.where(df[\"CONDITION\"] == \"H\", 1, 0)\n",
    "\n",
    "    kf = KFold(n_splits=cv, shuffle=True, random_state=42)\n",
    "    list_shap_values = list()\n",
    "    f1_scores = list()\n",
    "    \n",
    "    for train_index, test_index in kf.split(X):\n",
    "        X_train, X_test = X.iloc[train_index], X.iloc[test_index]\n",
    "        y_train, y_test = y[train_index], y[test_index]\n",
    "\n",
    "        #training model\n",
    "        clf.fit(X_train, y_train)\n",
    "        preds = clf.predict(X_test)\n",
    "        f1_scores.append(f1_score(y_test, preds))\n",
    "\n",
    "        #explaining model\n",
    "        explainer = shap.Explainer(clf, X_train)\n",
    "        shap_values = explainer(X_test)\n",
    "\n",
    "        #for each iteration we save the test_set index and the shap_values\n",
    "        list_shap_values.append(shap_values)\n",
    "        list_test_sets.append(test_index)\n",
    "        \n",
    "    # combining results from all iterations\n",
    "    shap_values = np.array(list_shap_values[0].values)\n",
    "    for i in range(1, cv):\n",
    "        shap_values = np.concatenate((shap_values, np.array(list_shap_values[i].values)), axis=0)\n",
    "    shap_values = shap.Explanation(shap_values, feature_names=X_train.columns)\n",
    "    \n",
    "    return shap_values, np.mean(f1_scores)"
   ]
  },
  {
   "cell_type": "markdown",
   "id": "142156d1",
   "metadata": {},
   "source": [
    "## Baseline Feature Importance - Shap Values"
   ]
  },
  {
   "cell_type": "markdown",
   "id": "dccc1127",
   "metadata": {},
   "source": [
    "### Why Shap Values?"
   ]
  },
  {
   "cell_type": "code",
   "execution_count": 37,
   "id": "aa4016d7",
   "metadata": {},
   "outputs": [
    {
     "data": {
      "text/plain": [
       "<AxesSubplot:xlabel='variable', ylabel='value'>"
      ]
     },
     "execution_count": 37,
     "metadata": {},
     "output_type": "execute_result"
    },
    {
     "data": {
      "image/png": "[encoded data removed]",
      "text/plain": [
       "<Figure size 1170x827 with 1 Axes>"
      ]
     },
     "metadata": {},
     "output_type": "display_data"
    }
   ],
   "source": [
    "clf = LogisticRegression(solver=\"lbfgs\", penalty=\"none\")\n",
    "output = evaluate_clf(BF_CTU_df, clf, cv=5)\n",
    "feature_importance_lr = get_feature_importance(output)\n",
    "\n",
    "clf = RandomForestClassifier(n_estimators=300, random_state=42)\n",
    "output = evaluate_clf(BF_CTU_df, clf, cv=5)\n",
    "feature_importance_rf = get_feature_importance(output)\n",
    "\n",
    "clf = svm.SVC(kernel=\"linear\")\n",
    "output = evaluate_clf(BF_CTU_df, clf, cv=5)\n",
    "feature_importance_svm = get_feature_importance(output)\n",
    "\n",
    "clf = XGBClassifier(random_state=42)\n",
    "output = evaluate_clf(BF_CTU_df, clf, cv=5)\n",
    "feature_importance_xgboost = get_feature_importance(output)\n",
    "\n",
    "feature_importance_lr['model'] =\"logistic_reg\"\n",
    "feature_importance_rf['model'] =\"random_forest\"\n",
    "feature_importance_svm['model'] =\"svm\"\n",
    "feature_importance_xgboost['model'] =\"xgboost\"\n",
    "\n",
    "comparison_df = pd.DataFrame.from_dict([feature_importance_lr, \n",
    "                        feature_importance_rf, \n",
    "                        feature_importance_svm,\n",
    "                        feature_importance_xgboost])\n",
    "\n",
    "comparison_df = comparison_df.melt(id_vars=[\"model\"])\n",
    "\n",
    "sns.barplot(data=comparison_df, x=\"variable\", y=\"value\", hue=\"model\")"
   ]
  },
  {
   "cell_type": "markdown",
   "id": "faefb3f1",
   "metadata": {},
   "source": [
    "### Logistic Regression"
   ]
  },
  {
   "cell_type": "code",
   "execution_count": 38,
   "id": "93003ce4",
   "metadata": {},
   "outputs": [
    {
     "ename": "NameError",
     "evalue": "name 'KFold' is not defined",
     "output_type": "error",
     "traceback": [
      "\u001b[0;31m---------------------------------------------------------------------------\u001b[0m",
      "\u001b[0;31mNameError\u001b[0m                                 Traceback (most recent call last)",
      "Cell \u001b[0;32mIn [38], line 2\u001b[0m\n\u001b[1;32m      1\u001b[0m clf \u001b[38;5;241m=\u001b[39m LogisticRegression(solver\u001b[38;5;241m=\u001b[39m\u001b[38;5;124m\"\u001b[39m\u001b[38;5;124mlbfgs\u001b[39m\u001b[38;5;124m\"\u001b[39m, penalty\u001b[38;5;241m=\u001b[39m\u001b[38;5;124m\"\u001b[39m\u001b[38;5;124mnone\u001b[39m\u001b[38;5;124m\"\u001b[39m)\n\u001b[0;32m----> 2\u001b[0m shap_values_lr, f1 \u001b[38;5;241m=\u001b[39m \u001b[43mget_shap_values\u001b[49m\u001b[43m(\u001b[49m\u001b[43mclf\u001b[49m\u001b[43m,\u001b[49m\u001b[43m \u001b[49m\u001b[43mBF_CTU_df\u001b[49m\u001b[43m,\u001b[49m\u001b[43m \u001b[49m\u001b[38;5;241;43m5\u001b[39;49m\u001b[43m)\u001b[49m\n\u001b[1;32m      3\u001b[0m \u001b[38;5;28mprint\u001b[39m(\u001b[38;5;124mf\u001b[39m\u001b[38;5;124m\"\u001b[39m\u001b[38;5;124mCross-Validated F1-Score: \u001b[39m\u001b[38;5;132;01m{\u001b[39;00mf1\u001b[38;5;132;01m}\u001b[39;00m\u001b[38;5;124m\"\u001b[39m)\n\u001b[1;32m      4\u001b[0m shap\u001b[38;5;241m.\u001b[39mplots\u001b[38;5;241m.\u001b[39mbar(shap_values_lr)\n",
      "Cell \u001b[0;32mIn [36], line 18\u001b[0m, in \u001b[0;36mget_shap_values\u001b[0;34m(clf, df, cv)\u001b[0m\n\u001b[1;32m     15\u001b[0m X \u001b[38;5;241m=\u001b[39m df\u001b[38;5;241m.\u001b[39mloc[:, df\u001b[38;5;241m.\u001b[39mcolumns \u001b[38;5;241m!=\u001b[39m \u001b[38;5;124m'\u001b[39m\u001b[38;5;124mCONDITION\u001b[39m\u001b[38;5;124m'\u001b[39m] \u001b[38;5;66;03m# select all columns except CONDITION\u001b[39;00m\n\u001b[1;32m     16\u001b[0m y \u001b[38;5;241m=\u001b[39m np\u001b[38;5;241m.\u001b[39mwhere(df[\u001b[38;5;124m\"\u001b[39m\u001b[38;5;124mCONDITION\u001b[39m\u001b[38;5;124m\"\u001b[39m] \u001b[38;5;241m==\u001b[39m \u001b[38;5;124m\"\u001b[39m\u001b[38;5;124mH\u001b[39m\u001b[38;5;124m\"\u001b[39m, \u001b[38;5;241m1\u001b[39m, \u001b[38;5;241m0\u001b[39m)\n\u001b[0;32m---> 18\u001b[0m kf \u001b[38;5;241m=\u001b[39m \u001b[43mKFold\u001b[49m(n_splits\u001b[38;5;241m=\u001b[39mcv, shuffle\u001b[38;5;241m=\u001b[39m\u001b[38;5;28;01mTrue\u001b[39;00m, random_state\u001b[38;5;241m=\u001b[39m\u001b[38;5;241m42\u001b[39m)\n\u001b[1;32m     19\u001b[0m list_shap_values \u001b[38;5;241m=\u001b[39m \u001b[38;5;28mlist\u001b[39m()\n\u001b[1;32m     20\u001b[0m f1_scores \u001b[38;5;241m=\u001b[39m \u001b[38;5;28mlist\u001b[39m()\n",
      "\u001b[0;31mNameError\u001b[0m: name 'KFold' is not defined"
     ]
    }
   ],
   "source": [
    "clf = LogisticRegression(solver=\"lbfgs\", penalty=\"none\")\n",
    "shap_values_lr, f1 = get_shap_values(clf, BF_CTU_df, 5)\n",
    "print(f\"Cross-Validated F1-Score: {f1}\")\n",
    "shap.plots.bar(shap_values_lr)"
   ]
  },
  {
   "cell_type": "markdown",
   "id": "112f959d",
   "metadata": {},
   "source": [
    "### Random Forest"
   ]
  },
  {
   "cell_type": "code",
   "execution_count": 39,
   "id": "3678ed44",
   "metadata": {},
   "outputs": [
    {
     "ename": "NameError",
     "evalue": "name 'KFold' is not defined",
     "output_type": "error",
     "traceback": [
      "\u001b[0;31m---------------------------------------------------------------------------\u001b[0m",
      "\u001b[0;31mNameError\u001b[0m                                 Traceback (most recent call last)",
      "Cell \u001b[0;32mIn [39], line 2\u001b[0m\n\u001b[1;32m      1\u001b[0m clf \u001b[38;5;241m=\u001b[39m RandomForestClassifier(random_state\u001b[38;5;241m=\u001b[39m\u001b[38;5;241m42\u001b[39m)\n\u001b[0;32m----> 2\u001b[0m shap_values_rf, f1 \u001b[38;5;241m=\u001b[39m \u001b[43mget_shap_values\u001b[49m\u001b[43m(\u001b[49m\u001b[43mclf\u001b[49m\u001b[43m,\u001b[49m\u001b[43m \u001b[49m\u001b[43mBF_CTU_df\u001b[49m\u001b[43m,\u001b[49m\u001b[43m \u001b[49m\u001b[38;5;241;43m5\u001b[39;49m\u001b[43m)\u001b[49m\n\u001b[1;32m      3\u001b[0m \u001b[38;5;28mprint\u001b[39m(\u001b[38;5;124mf\u001b[39m\u001b[38;5;124m\"\u001b[39m\u001b[38;5;124mCross-Validated F1-Score: \u001b[39m\u001b[38;5;132;01m{\u001b[39;00mf1\u001b[38;5;132;01m}\u001b[39;00m\u001b[38;5;124m\"\u001b[39m)\n\u001b[1;32m      4\u001b[0m shap\u001b[38;5;241m.\u001b[39mplots\u001b[38;5;241m.\u001b[39mbar(shap_values_rf[:,:,\u001b[38;5;241m1\u001b[39m])\n",
      "Cell \u001b[0;32mIn [36], line 18\u001b[0m, in \u001b[0;36mget_shap_values\u001b[0;34m(clf, df, cv)\u001b[0m\n\u001b[1;32m     15\u001b[0m X \u001b[38;5;241m=\u001b[39m df\u001b[38;5;241m.\u001b[39mloc[:, df\u001b[38;5;241m.\u001b[39mcolumns \u001b[38;5;241m!=\u001b[39m \u001b[38;5;124m'\u001b[39m\u001b[38;5;124mCONDITION\u001b[39m\u001b[38;5;124m'\u001b[39m] \u001b[38;5;66;03m# select all columns except CONDITION\u001b[39;00m\n\u001b[1;32m     16\u001b[0m y \u001b[38;5;241m=\u001b[39m np\u001b[38;5;241m.\u001b[39mwhere(df[\u001b[38;5;124m\"\u001b[39m\u001b[38;5;124mCONDITION\u001b[39m\u001b[38;5;124m\"\u001b[39m] \u001b[38;5;241m==\u001b[39m \u001b[38;5;124m\"\u001b[39m\u001b[38;5;124mH\u001b[39m\u001b[38;5;124m\"\u001b[39m, \u001b[38;5;241m1\u001b[39m, \u001b[38;5;241m0\u001b[39m)\n\u001b[0;32m---> 18\u001b[0m kf \u001b[38;5;241m=\u001b[39m \u001b[43mKFold\u001b[49m(n_splits\u001b[38;5;241m=\u001b[39mcv, shuffle\u001b[38;5;241m=\u001b[39m\u001b[38;5;28;01mTrue\u001b[39;00m, random_state\u001b[38;5;241m=\u001b[39m\u001b[38;5;241m42\u001b[39m)\n\u001b[1;32m     19\u001b[0m list_shap_values \u001b[38;5;241m=\u001b[39m \u001b[38;5;28mlist\u001b[39m()\n\u001b[1;32m     20\u001b[0m f1_scores \u001b[38;5;241m=\u001b[39m \u001b[38;5;28mlist\u001b[39m()\n",
      "\u001b[0;31mNameError\u001b[0m: name 'KFold' is not defined"
     ]
    }
   ],
   "source": [
    "clf = RandomForestClassifier(random_state=42)\n",
    "shap_values_rf, f1 = get_shap_values(clf, BF_CTU_df, 5)\n",
    "print(f\"Cross-Validated F1-Score: {f1}\")\n",
    "shap.plots.bar(shap_values_rf[:,:,1])"
   ]
  },
  {
   "cell_type": "markdown",
   "id": "8b024e43",
   "metadata": {},
   "source": [
    "### SVM"
   ]
  },
  {
   "cell_type": "code",
   "execution_count": 40,
   "id": "d61e437a",
   "metadata": {},
   "outputs": [
    {
     "ename": "NameError",
     "evalue": "name 'KFold' is not defined",
     "output_type": "error",
     "traceback": [
      "\u001b[0;31m---------------------------------------------------------------------------\u001b[0m",
      "\u001b[0;31mNameError\u001b[0m                                 Traceback (most recent call last)",
      "Cell \u001b[0;32mIn [40], line 2\u001b[0m\n\u001b[1;32m      1\u001b[0m clf \u001b[38;5;241m=\u001b[39m svm\u001b[38;5;241m.\u001b[39mSVC(kernel\u001b[38;5;241m=\u001b[39m\u001b[38;5;124m\"\u001b[39m\u001b[38;5;124mlinear\u001b[39m\u001b[38;5;124m\"\u001b[39m)\n\u001b[0;32m----> 2\u001b[0m shap_values_svm, f1 \u001b[38;5;241m=\u001b[39m \u001b[43mget_shap_values\u001b[49m\u001b[43m(\u001b[49m\u001b[43mclf\u001b[49m\u001b[43m,\u001b[49m\u001b[43m \u001b[49m\u001b[43mBF_CTU_df\u001b[49m\u001b[43m,\u001b[49m\u001b[43m \u001b[49m\u001b[38;5;241;43m5\u001b[39;49m\u001b[43m)\u001b[49m\n\u001b[1;32m      3\u001b[0m \u001b[38;5;28mprint\u001b[39m(\u001b[38;5;124mf\u001b[39m\u001b[38;5;124m\"\u001b[39m\u001b[38;5;124mCross-Validated F1-Score: \u001b[39m\u001b[38;5;132;01m{\u001b[39;00mf1\u001b[38;5;132;01m}\u001b[39;00m\u001b[38;5;124m\"\u001b[39m)\n\u001b[1;32m      4\u001b[0m shap\u001b[38;5;241m.\u001b[39mplots\u001b[38;5;241m.\u001b[39mbar(shap_values_svm)\n",
      "Cell \u001b[0;32mIn [36], line 18\u001b[0m, in \u001b[0;36mget_shap_values\u001b[0;34m(clf, df, cv)\u001b[0m\n\u001b[1;32m     15\u001b[0m X \u001b[38;5;241m=\u001b[39m df\u001b[38;5;241m.\u001b[39mloc[:, df\u001b[38;5;241m.\u001b[39mcolumns \u001b[38;5;241m!=\u001b[39m \u001b[38;5;124m'\u001b[39m\u001b[38;5;124mCONDITION\u001b[39m\u001b[38;5;124m'\u001b[39m] \u001b[38;5;66;03m# select all columns except CONDITION\u001b[39;00m\n\u001b[1;32m     16\u001b[0m y \u001b[38;5;241m=\u001b[39m np\u001b[38;5;241m.\u001b[39mwhere(df[\u001b[38;5;124m\"\u001b[39m\u001b[38;5;124mCONDITION\u001b[39m\u001b[38;5;124m\"\u001b[39m] \u001b[38;5;241m==\u001b[39m \u001b[38;5;124m\"\u001b[39m\u001b[38;5;124mH\u001b[39m\u001b[38;5;124m\"\u001b[39m, \u001b[38;5;241m1\u001b[39m, \u001b[38;5;241m0\u001b[39m)\n\u001b[0;32m---> 18\u001b[0m kf \u001b[38;5;241m=\u001b[39m \u001b[43mKFold\u001b[49m(n_splits\u001b[38;5;241m=\u001b[39mcv, shuffle\u001b[38;5;241m=\u001b[39m\u001b[38;5;28;01mTrue\u001b[39;00m, random_state\u001b[38;5;241m=\u001b[39m\u001b[38;5;241m42\u001b[39m)\n\u001b[1;32m     19\u001b[0m list_shap_values \u001b[38;5;241m=\u001b[39m \u001b[38;5;28mlist\u001b[39m()\n\u001b[1;32m     20\u001b[0m f1_scores \u001b[38;5;241m=\u001b[39m \u001b[38;5;28mlist\u001b[39m()\n",
      "\u001b[0;31mNameError\u001b[0m: name 'KFold' is not defined"
     ]
    }
   ],
   "source": [
    "clf = svm.SVC(kernel=\"linear\")\n",
    "shap_values_svm, f1 = get_shap_values(clf, BF_CTU_df, 5)\n",
    "print(f\"Cross-Validated F1-Score: {f1}\")\n",
    "shap.plots.bar(shap_values_svm)"
   ]
  },
  {
   "cell_type": "markdown",
   "id": "216a01c6",
   "metadata": {},
   "source": [
    "### XGBoost"
   ]
  },
  {
   "cell_type": "code",
   "execution_count": 41,
   "id": "4cc48433",
   "metadata": {},
   "outputs": [
    {
     "ename": "NameError",
     "evalue": "name 'KFold' is not defined",
     "output_type": "error",
     "traceback": [
      "\u001b[0;31m---------------------------------------------------------------------------\u001b[0m",
      "\u001b[0;31mNameError\u001b[0m                                 Traceback (most recent call last)",
      "Cell \u001b[0;32mIn [41], line 2\u001b[0m\n\u001b[1;32m      1\u001b[0m clf \u001b[38;5;241m=\u001b[39m XGBClassifier(random_state\u001b[38;5;241m=\u001b[39m\u001b[38;5;241m42\u001b[39m)\n\u001b[0;32m----> 2\u001b[0m shap_values_xgboost, f1 \u001b[38;5;241m=\u001b[39m \u001b[43mget_shap_values\u001b[49m\u001b[43m(\u001b[49m\u001b[43mclf\u001b[49m\u001b[43m,\u001b[49m\u001b[43m \u001b[49m\u001b[43mBF_CTU_df\u001b[49m\u001b[43m,\u001b[49m\u001b[43m \u001b[49m\u001b[38;5;241;43m5\u001b[39;49m\u001b[43m)\u001b[49m\n\u001b[1;32m      3\u001b[0m \u001b[38;5;28mprint\u001b[39m(\u001b[38;5;124mf\u001b[39m\u001b[38;5;124m\"\u001b[39m\u001b[38;5;124mCross-Validated F1-Score: \u001b[39m\u001b[38;5;132;01m{\u001b[39;00mf1\u001b[38;5;132;01m}\u001b[39;00m\u001b[38;5;124m\"\u001b[39m)\n\u001b[1;32m      4\u001b[0m shap\u001b[38;5;241m.\u001b[39mplots\u001b[38;5;241m.\u001b[39mbar(shap_values_xgboost)\n",
      "Cell \u001b[0;32mIn [36], line 18\u001b[0m, in \u001b[0;36mget_shap_values\u001b[0;34m(clf, df, cv)\u001b[0m\n\u001b[1;32m     15\u001b[0m X \u001b[38;5;241m=\u001b[39m df\u001b[38;5;241m.\u001b[39mloc[:, df\u001b[38;5;241m.\u001b[39mcolumns \u001b[38;5;241m!=\u001b[39m \u001b[38;5;124m'\u001b[39m\u001b[38;5;124mCONDITION\u001b[39m\u001b[38;5;124m'\u001b[39m] \u001b[38;5;66;03m# select all columns except CONDITION\u001b[39;00m\n\u001b[1;32m     16\u001b[0m y \u001b[38;5;241m=\u001b[39m np\u001b[38;5;241m.\u001b[39mwhere(df[\u001b[38;5;124m\"\u001b[39m\u001b[38;5;124mCONDITION\u001b[39m\u001b[38;5;124m\"\u001b[39m] \u001b[38;5;241m==\u001b[39m \u001b[38;5;124m\"\u001b[39m\u001b[38;5;124mH\u001b[39m\u001b[38;5;124m\"\u001b[39m, \u001b[38;5;241m1\u001b[39m, \u001b[38;5;241m0\u001b[39m)\n\u001b[0;32m---> 18\u001b[0m kf \u001b[38;5;241m=\u001b[39m \u001b[43mKFold\u001b[49m(n_splits\u001b[38;5;241m=\u001b[39mcv, shuffle\u001b[38;5;241m=\u001b[39m\u001b[38;5;28;01mTrue\u001b[39;00m, random_state\u001b[38;5;241m=\u001b[39m\u001b[38;5;241m42\u001b[39m)\n\u001b[1;32m     19\u001b[0m list_shap_values \u001b[38;5;241m=\u001b[39m \u001b[38;5;28mlist\u001b[39m()\n\u001b[1;32m     20\u001b[0m f1_scores \u001b[38;5;241m=\u001b[39m \u001b[38;5;28mlist\u001b[39m()\n",
      "\u001b[0;31mNameError\u001b[0m: name 'KFold' is not defined"
     ]
    }
   ],
   "source": [
    "clf = XGBClassifier(random_state=42)\n",
    "shap_values_xgboost, f1 = get_shap_values(clf, BF_CTU_df, 5)\n",
    "print(f\"Cross-Validated F1-Score: {f1}\")\n",
    "shap.plots.bar(shap_values_xgboost)"
   ]
  },
  {
   "cell_type": "markdown",
   "id": "14858664",
   "metadata": {},
   "source": [
    "### Comparison Between Models"
   ]
  },
  {
   "cell_type": "code",
   "execution_count": 42,
   "id": "616c9cfc",
   "metadata": {},
   "outputs": [
    {
     "ename": "NameError",
     "evalue": "name 'shap_values_lr' is not defined",
     "output_type": "error",
     "traceback": [
      "\u001b[0;31m---------------------------------------------------------------------------\u001b[0m",
      "\u001b[0;31mNameError\u001b[0m                                 Traceback (most recent call last)",
      "Cell \u001b[0;32mIn [42], line 9\u001b[0m\n\u001b[1;32m      6\u001b[0m     relative_shap_values \u001b[38;5;241m=\u001b[39m \u001b[38;5;28mdict\u001b[39m(\u001b[38;5;28mzip\u001b[39m(col_names, relative_shap_values))\n\u001b[1;32m      7\u001b[0m     \u001b[38;5;28;01mreturn\u001b[39;00m relative_shap_values\n\u001b[0;32m----> 9\u001b[0m rel_shap_values_lr \u001b[38;5;241m=\u001b[39m compute_relative_shap_values(\u001b[43mshap_values_lr\u001b[49m, df\u001b[38;5;241m.\u001b[39mcolumns)\n\u001b[1;32m     10\u001b[0m rel_shap_values_rf \u001b[38;5;241m=\u001b[39m compute_relative_shap_values(shap_values_rf[:,:,\u001b[38;5;241m1\u001b[39m], df\u001b[38;5;241m.\u001b[39mcolumns)\n\u001b[1;32m     11\u001b[0m rel_shap_values_svm \u001b[38;5;241m=\u001b[39m compute_relative_shap_values(shap_values_svm, df\u001b[38;5;241m.\u001b[39mcolumns)\n",
      "\u001b[0;31mNameError\u001b[0m: name 'shap_values_lr' is not defined"
     ]
    }
   ],
   "source": [
    "df = BF_CTU_df\n",
    "\n",
    "def compute_relative_shap_values(shap_values, col_names):    \n",
    "    mean_shap_values = np.mean(np.abs(shap_values.values), axis=0)\n",
    "    relative_shap_values = mean_shap_values / np.sum(mean_shap_values)\n",
    "    relative_shap_values = dict(zip(col_names, relative_shap_values))\n",
    "    return relative_shap_values\n",
    "\n",
    "rel_shap_values_lr = compute_relative_shap_values(shap_values_lr, df.columns)\n",
    "rel_shap_values_rf = compute_relative_shap_values(shap_values_rf[:,:,1], df.columns)\n",
    "rel_shap_values_svm = compute_relative_shap_values(shap_values_svm, df.columns)\n",
    "rel_shap_values_xgboost = compute_relative_shap_values(shap_values_xgboost, df.columns)\n",
    "\n",
    "rel_shap_values_lr['model'] =\"logistic_reg\"\n",
    "rel_shap_values_rf['model'] =\"random_forest\"\n",
    "rel_shap_values_svm['model'] =\"svm\"\n",
    "rel_shap_values_xgboost['model'] =\"xgboost\"\n",
    "\n",
    "comparison_df = pd.DataFrame.from_dict([rel_shap_values_lr, \n",
    "                        rel_shap_values_rf, \n",
    "                        rel_shap_values_svm,\n",
    "                        rel_shap_values_xgboost])\n",
    "\n",
    "comparison_df = comparison_df.melt(id_vars=[\"model\"])\n",
    "\n",
    "ax = sns.barplot(data=comparison_df, x=\"variable\", y=\"value\", hue=\"model\")\n",
    "ax.set_title('Shap Value Comparison - Data Set: BF_CTU')\n",
    "ax.set_ylabel('Relative Shap Value Contribution')\n",
    "ax.set_xlabel('Feature')\n",
    "plt.show()"
   ]
  },
  {
   "cell_type": "markdown",
   "id": "f4a761b4",
   "metadata": {},
   "source": [
    "## Feature Selection Methods"
   ]
  },
  {
   "cell_type": "markdown",
   "id": "c58a9036",
   "metadata": {},
   "source": [
    "### PCA"
   ]
  },
  {
   "cell_type": "code",
   "execution_count": 66,
   "id": "c27b4982",
   "metadata": {},
   "outputs": [
    {
     "data": {
      "image/png": "[encoded data removed]",
      "text/plain": [
       "<Figure size 1170x827 with 1 Axes>"
      ]
     },
     "metadata": {},
     "output_type": "display_data"
    }
   ],
   "source": [
    "from sklearn.preprocessing import StandardScaler\n",
    "from sklearn.decomposition import PCA\n",
    "\n",
    "features  = BF_CTU_df.columns.drop(\"CONDITION\")\n",
    "list(features) #creating list of features\n",
    "\n",
    "feature_values = BF_CTU_df.loc[:, features].values #separating the features\n",
    "target_values = BF_CTU_df.loc[:, \"CONDITION\"].values #separating the target\n",
    "\n",
    "feature_values_std = StandardScaler().fit_transform(feature_values)\n",
    "\n",
    "#Finding explained variance for PCA\n",
    "\n",
    "pca = PCA()\n",
    "\n",
    "feature_values_pca = pca.fit_transform(feature_values_std) #Determine transformed feature\n",
    "\n",
    "exp_var_pca = pca.explained_variance_ratio_ #Determine explained variance using explained_variance_ration_ attribute\n",
    "\n",
    "cum_sum_eigenvalues = np.cumsum(exp_var_pca) #Cumulative sum of eigenvalues; This will be used to create step plot\n",
    "# for visualizing the variance explained by each principal component.\n",
    "\n",
    "plt.bar(range(0,len(exp_var_pca)), exp_var_pca, alpha=0.5, align='center', label='Individual explained variance')\n",
    "plt.step(range(0,len(cum_sum_eigenvalues)), cum_sum_eigenvalues, where='mid',label='Cumulative explained variance')\n",
    "plt.ylabel('Explained variance ratio')\n",
    "plt.xlabel('Principal component index')\n",
    "plt.legend(loc='best')\n",
    "plt.tight_layout()\n",
    "plt.show()\n",
    "\n",
    "#We can see that the first 6 components captures 80% of the total variance. Thus, I will try PCA with 8 components. "
   ]
  },
  {
   "cell_type": "code",
   "execution_count": 78,
   "id": "b9dded5a",
   "metadata": {},
   "outputs": [
    {
     "data": {
      "text/html": [
       "<div>\n",
       "<style scoped>\n",
       "    .dataframe tbody tr th:only-of-type {\n",
       "        vertical-align: middle;\n",
       "    }\n",
       "\n",
       "    .dataframe tbody tr th {\n",
       "        vertical-align: top;\n",
       "    }\n",
       "\n",
       "    .dataframe thead th {\n",
       "        text-align: right;\n",
       "    }\n",
       "</style>\n",
       "<table border=\"1\" class=\"dataframe\">\n",
       "  <thead>\n",
       "    <tr style=\"text-align: right;\">\n",
       "      <th></th>\n",
       "      <th>principal component 1</th>\n",
       "      <th>principal component 2</th>\n",
       "      <th>principal component 3</th>\n",
       "      <th>principal component 4</th>\n",
       "      <th>principal component 5</th>\n",
       "      <th>principal component 6</th>\n",
       "      <th>CONDITION</th>\n",
       "    </tr>\n",
       "  </thead>\n",
       "  <tbody>\n",
       "    <tr>\n",
       "      <th>0</th>\n",
       "      <td>-0.636395</td>\n",
       "      <td>-0.559664</td>\n",
       "      <td>1.288716</td>\n",
       "      <td>0.154158</td>\n",
       "      <td>-0.299473</td>\n",
       "      <td>-0.263229</td>\n",
       "      <td>H</td>\n",
       "    </tr>\n",
       "    <tr>\n",
       "      <th>1</th>\n",
       "      <td>0.136756</td>\n",
       "      <td>0.618018</td>\n",
       "      <td>0.519578</td>\n",
       "      <td>-0.634618</td>\n",
       "      <td>0.000552</td>\n",
       "      <td>0.586922</td>\n",
       "      <td>H</td>\n",
       "    </tr>\n",
       "    <tr>\n",
       "      <th>2</th>\n",
       "      <td>0.470984</td>\n",
       "      <td>0.805428</td>\n",
       "      <td>0.500439</td>\n",
       "      <td>0.376303</td>\n",
       "      <td>0.421051</td>\n",
       "      <td>0.213404</td>\n",
       "      <td>H</td>\n",
       "    </tr>\n",
       "    <tr>\n",
       "      <th>3</th>\n",
       "      <td>0.570510</td>\n",
       "      <td>0.031628</td>\n",
       "      <td>-0.155019</td>\n",
       "      <td>0.136177</td>\n",
       "      <td>2.833940</td>\n",
       "      <td>0.559732</td>\n",
       "      <td>H</td>\n",
       "    </tr>\n",
       "    <tr>\n",
       "      <th>4</th>\n",
       "      <td>-0.692601</td>\n",
       "      <td>1.779682</td>\n",
       "      <td>0.319664</td>\n",
       "      <td>-0.094327</td>\n",
       "      <td>-0.552167</td>\n",
       "      <td>0.101802</td>\n",
       "      <td>H</td>\n",
       "    </tr>\n",
       "    <tr>\n",
       "      <th>...</th>\n",
       "      <td>...</td>\n",
       "      <td>...</td>\n",
       "      <td>...</td>\n",
       "      <td>...</td>\n",
       "      <td>...</td>\n",
       "      <td>...</td>\n",
       "      <td>...</td>\n",
       "    </tr>\n",
       "    <tr>\n",
       "      <th>437</th>\n",
       "      <td>-0.330678</td>\n",
       "      <td>1.223917</td>\n",
       "      <td>-0.585371</td>\n",
       "      <td>-1.118679</td>\n",
       "      <td>-0.395958</td>\n",
       "      <td>0.037219</td>\n",
       "      <td>D</td>\n",
       "    </tr>\n",
       "    <tr>\n",
       "      <th>438</th>\n",
       "      <td>-1.162845</td>\n",
       "      <td>-0.516326</td>\n",
       "      <td>-1.113814</td>\n",
       "      <td>1.142570</td>\n",
       "      <td>-0.057063</td>\n",
       "      <td>-0.591550</td>\n",
       "      <td>D</td>\n",
       "    </tr>\n",
       "    <tr>\n",
       "      <th>439</th>\n",
       "      <td>-1.415153</td>\n",
       "      <td>0.837071</td>\n",
       "      <td>0.057434</td>\n",
       "      <td>0.041929</td>\n",
       "      <td>-0.861038</td>\n",
       "      <td>0.079852</td>\n",
       "      <td>D</td>\n",
       "    </tr>\n",
       "    <tr>\n",
       "      <th>440</th>\n",
       "      <td>-1.202164</td>\n",
       "      <td>0.533566</td>\n",
       "      <td>0.020748</td>\n",
       "      <td>-0.316640</td>\n",
       "      <td>0.156320</td>\n",
       "      <td>0.014154</td>\n",
       "      <td>D</td>\n",
       "    </tr>\n",
       "    <tr>\n",
       "      <th>441</th>\n",
       "      <td>-2.123785</td>\n",
       "      <td>1.452388</td>\n",
       "      <td>-0.299762</td>\n",
       "      <td>-1.112228</td>\n",
       "      <td>0.723420</td>\n",
       "      <td>-0.203748</td>\n",
       "      <td>D</td>\n",
       "    </tr>\n",
       "  </tbody>\n",
       "</table>\n",
       "<p>442 rows × 7 columns</p>\n",
       "</div>"
      ],
      "text/plain": [
       "     principal component 1  principal component 2  principal component 3  \\\n",
       "0                -0.636395              -0.559664               1.288716   \n",
       "1                 0.136756               0.618018               0.519578   \n",
       "2                 0.470984               0.805428               0.500439   \n",
       "3                 0.570510               0.031628              -0.155019   \n",
       "4                -0.692601               1.779682               0.319664   \n",
       "..                     ...                    ...                    ...   \n",
       "437              -0.330678               1.223917              -0.585371   \n",
       "438              -1.162845              -0.516326              -1.113814   \n",
       "439              -1.415153               0.837071               0.057434   \n",
       "440              -1.202164               0.533566               0.020748   \n",
       "441              -2.123785               1.452388              -0.299762   \n",
       "\n",
       "     principal component 4  principal component 5  principal component 6  \\\n",
       "0                 0.154158              -0.299473              -0.263229   \n",
       "1                -0.634618               0.000552               0.586922   \n",
       "2                 0.376303               0.421051               0.213404   \n",
       "3                 0.136177               2.833940               0.559732   \n",
       "4                -0.094327              -0.552167               0.101802   \n",
       "..                     ...                    ...                    ...   \n",
       "437              -1.118679              -0.395958               0.037219   \n",
       "438               1.142570              -0.057063              -0.591550   \n",
       "439               0.041929              -0.861038               0.079852   \n",
       "440              -0.316640               0.156320               0.014154   \n",
       "441              -1.112228               0.723420              -0.203748   \n",
       "\n",
       "    CONDITION  \n",
       "0           H  \n",
       "1           H  \n",
       "2           H  \n",
       "3           H  \n",
       "4           H  \n",
       "..        ...  \n",
       "437         D  \n",
       "438         D  \n",
       "439         D  \n",
       "440         D  \n",
       "441         D  \n",
       "\n",
       "[442 rows x 7 columns]"
      ]
     },
     "execution_count": 78,
     "metadata": {},
     "output_type": "execute_result"
    }
   ],
   "source": [
    "principalComponents = PCA(n_components=6).fit_transform(feature_values_std)\n",
    "\n",
    "principalDf = pd.DataFrame(data = principalComponents,\n",
    "                           columns = ['principal component 1', 'principal component 2',\n",
    "                                      'principal component 3','principal component 4',\n",
    "                                      'principal component 5',  'principal component 6'])\n",
    "\n",
    "finalDf = pd.concat([principalDf, df[['CONDITION']]], axis = 1)\n",
    "\n",
    "finalDf\n",
    "\n",
    "\n",
    "\n"
   ]
  },
  {
   "cell_type": "markdown",
   "id": "5dce5bd9",
   "metadata": {},
   "source": [
    "### Chi-Square"
   ]
  },
  {
   "cell_type": "markdown",
   "id": "c66fb717",
   "metadata": {},
   "source": [
    "### Autoencoder Thing"
   ]
  },
  {
   "cell_type": "markdown",
   "id": "1a2f64ef",
   "metadata": {},
   "source": [
    "### Sparce-PCA"
   ]
  },
  {
   "cell_type": "markdown",
   "id": "122419d5",
   "metadata": {},
   "source": [
    "### Etc"
   ]
  },
  {
   "cell_type": "markdown",
   "id": "523ef1bc",
   "metadata": {},
   "source": [
    "Feature importance scores can be fed to a wrapper model, such as the \"SelectFromModel\" class, to perform feature selection.\n",
    "\n",
    "Way to calculate features importances:\n",
    "- Coefficient statistic between each features"
   ]
  }
 ],
 "metadata": {
  "kernelspec": {
   "display_name": "Python 3 (ipykernel)",
   "language": "python",
   "name": "python3"
  },
  "language_info": {
   "codemirror_mode": {
    "name": "ipython",
    "version": 3
   },
   "file_extension": ".py",
   "mimetype": "text/x-python",
   "name": "python",
   "nbconvert_exporter": "python",
   "pygments_lexer": "ipython3",
   "version": "3.8.15"
  },
  "vscode": {
   "interpreter": {
    "hash": "7aea7e1af0c44a7cdbaa540a5558a97e5f0e73b4bbd305bc21454dd5d4dcc187"
   }
  }
 },
 "nbformat": 4,
 "nbformat_minor": 5
}
