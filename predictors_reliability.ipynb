{
 "cells": [
  {
   "cell_type": "markdown",
   "id": "d48d4eb1",
   "metadata": {},
   "source": [
    "# Lie Detection: Reliability of Relevant Predictors in Classifiers"
   ]
  },
  {
   "cell_type": "markdown",
   "id": "26bbb79d",
   "metadata": {},
   "source": [
    "[INTRODUCTION OF THE PROBLEM HERE]\n",
    "\n",
    "### Datasets:\n",
    "[ADD AND COMMENT ABOUT DATASETS HERE]\n",
    "### Tasks:\n",
    "[ADD TASK HERE]\n",
    "\n",
    "### Integrants:\n",
    "Name, Matricola, Email respectively\n",
    "- Santiago Víquez Segura, 2048722, santiago.viquezsegura@studenti.unipd.it\n",
    "- Phillippe Robert, 2041505, philippe.robert@studenti.unipd.it\n",
    "- Huzaifa Fazal,"
   ]
  },
  {
   "cell_type": "markdown",
   "id": "69e91ff3",
   "metadata": {},
   "source": [
    "## Dependencies"
   ]
  },
  {
   "cell_type": "code",
   "execution_count": 2,
   "id": "a85d1059",
   "metadata": {},
   "outputs": [],
   "source": [
    "import numpy as np\n",
    "import pandas as pd\n",
    "import matplotlib.pyplot as plt\n",
    "from sklearn.model_selection import cross_validate\n",
    "from sklearn.ensemble import  RandomForestClassifier\n",
    "from sklearn.linear_model import LogisticRegression"
   ]
  },
  {
   "cell_type": "markdown",
   "id": "514322b5",
   "metadata": {},
   "source": [
    "## Load datasets"
   ]
  },
  {
   "cell_type": "code",
   "execution_count": 3,
   "id": "d6028185",
   "metadata": {},
   "outputs": [],
   "source": [
    "BF_CTU_df = pd.read_csv(\"data/BF_df_CTU.csv\", delimiter=\",\")\n",
    "BF_OU_df = pd.read_csv(\"data/BF_df_OU.csv\", delimiter=\",\")\n",
    "BF_V_df = pd.read_csv(\"data/BF_df_V.csv\", delimiter=\",\")\n",
    "DT_CC_df = pd.read_csv(\"data/DT_df_CC.csv\", delimiter=\",\")\n",
    "DT_JI_df = pd.read_csv(\"data/DT_df_JI.csv\", delimiter=\";\")\n",
    "IADQ_df = pd.read_csv(\"data/IADQ_df.csv\", delimiter=\",\")\n",
    "IESR_df = pd.read_csv(\"data/IESR_df.csv\", delimiter=\",\")\n",
    "NAQR_df = pd.read_csv(\"data/NAQ_R_df.csv\", delimiter=\";\")\n",
    "PCL5_df = pd.read_csv(\"data/PCL5_df.csv\", delimiter=\";\")\n",
    "PHQ9_df = pd.read_csv(\"data/PHQ9_GAD7_df.csv\", delimiter=\";\")\n",
    "PID5_df = pd.read_csv(\"data/PID5_df.csv\", delimiter=\";\")\n",
    "PRFQ_df = pd.read_csv(\"data/PRFQ_df.csv\", delimiter=\",\")\n",
    "PRMQ_df = pd.read_csv(\"data/PRMQ_df.csv\", delimiter=\",\")\n",
    "DDDT_df = pd.read_csv(\"data/RAW_DDDT.CSV\", delimiter=\",\")\n",
    "SPID5_df = pd.read_csv(\"data/sPID-5_df.csv\", delimiter=\",\")\n",
    "RNEOPI_honest_df = pd.read_excel(\"data/Honest.xlsx\", header=1)\n",
    "RNEOPI_fake_df = pd.read_excel(\"data/Faked.xlsx\", header=1)"
   ]
  },
  {
   "cell_type": "markdown",
   "id": "1a6244f9",
   "metadata": {},
   "source": [
    "## Baseline Feature Importance"
   ]
  },
  {
   "cell_type": "code",
   "execution_count": 40,
   "id": "75843ca3",
   "metadata": {},
   "outputs": [],
   "source": [
    "def evaluate_clf(df, clf, cv):\n",
    "    \"\"\"\n",
    "    Performs cross-validation of a classifier over a dataset\n",
    "    \n",
    "    Args:\n",
    "        df: (pd.DataFrame) train dataset\n",
    "        clf: (sklearn fitted estimator)\n",
    "        cv: (int) number of folds\n",
    "        \n",
    "    Returns:\n",
    "        output: (dict) {fit_time:[...], score_time:[...], estimator:[...], test_score:[...]\n",
    "    \"\"\"\n",
    "    \n",
    "    X = df.loc[:, df.columns != 'CONDITION'] # select all columns except CONDITION\n",
    "    y = df[\"CONDITION\"]\n",
    "    output = cross_validate(clf, X, y, cv=cv, scoring='accuracy', return_estimator=True)\n",
    "    \n",
    "    return output"
   ]
  },
  {
   "cell_type": "code",
   "execution_count": 58,
   "id": "98b4ac9b",
   "metadata": {},
   "outputs": [],
   "source": [
    "def get_feature_importance(model_output):\n",
    "    \"\"\"\n",
    "    Averages feature importances / coefficient values from all the fitted estimators\n",
    "    \n",
    "    Args:\n",
    "        model_output: (list) sklearn fitted estimators\n",
    "    \n",
    "    Retruns: (dict) {predictor: value}\n",
    "    \"\"\"\n",
    "    \n",
    "    n_folds = len(output[\"estimator\"])\n",
    "    n_features = output[\"estimator\"][0].n_features_in_\n",
    "\n",
    "    coeficients = np.zeros(n_features)\n",
    "    for estimator in output[\"estimator\"]:\n",
    "        coeficients += estimator.coef_[0] # TODO: RF uses feature_importances insted of coef_\n",
    "\n",
    "    coeficients = coeficients/n_folds\n",
    "    res = dict(zip(estimator.feature_names_in_, coeficients))\n",
    "\n",
    "    return res"
   ]
  },
  {
   "cell_type": "code",
   "execution_count": 63,
   "id": "5e515582",
   "metadata": {},
   "outputs": [
    {
     "name": "stdout",
     "output_type": "stream",
     "text": [
      "Cross-Validated Accuracy: 0.8258937691521961\n",
      "{'EX1G': -0.3584379961687213, 'EX2G': 0.11496166264669708, 'A1G': -0.6705075189049153, 'A2G': 0.4619940384712014, 'C1G': -0.8383693178477174, 'C2G': 1.0338735350369224, 'ES1G': -0.594217560531624, 'ES2G': -0.692499462066255, 'O1G': 0.14378379090743798, 'O2G': -0.1321606584990506}\n"
     ]
    }
   ],
   "source": [
    "#clf = RandomForestClassifier(n_estimators=3, random_state=42, class_weight=\"balanced\")\n",
    "clf = LogisticRegression(solver=\"lbfgs\")\n",
    "output = evaluate_clf(BF_CTU_df, clf, cv=5)\n",
    "\n",
    "accuracy = np.mean(output[\"test_score\"])\n",
    "feature_importance = get_feature_importance(output)\n",
    "\n",
    "print(f\"Cross-Validated Accuracy: {accuracy}\")\n",
    "print(feature_importance)"
   ]
  },
  {
   "cell_type": "code",
   "execution_count": null,
   "id": "ca276530",
   "metadata": {},
   "outputs": [],
   "source": []
  }
 ],
 "metadata": {
  "kernelspec": {
   "display_name": "Python 3",
   "language": "python",
   "name": "python3"
  },
  "language_info": {
   "codemirror_mode": {
    "name": "ipython",
    "version": 3
   },
   "file_extension": ".py",
   "mimetype": "text/x-python",
   "name": "python",
   "nbconvert_exporter": "python",
   "pygments_lexer": "ipython3",
   "version": "3.8.8"
  }
 },
 "nbformat": 4,
 "nbformat_minor": 5
}
