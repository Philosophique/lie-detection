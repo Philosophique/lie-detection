{
 "cells": [
  {
   "cell_type": "markdown",
   "id": "7e608c09",
   "metadata": {},
   "source": [
    "# Lie Detection: Reliability of Relevant Predictors in Classifiers"
   ]
  },
  {
   "cell_type": "markdown",
   "id": "b3172474",
   "metadata": {},
   "source": [
    "[INTRODUCTION OF THE PROBLEM HERE]\n",
    "\n",
    "### Datasets:\n",
    "[ADD AND COMMENT ABOUT DATASETS HERE]\n",
    "### Tasks:\n",
    "[ADD TASK HERE]\n",
    "\n",
    "### Integrants:\n",
    "Name, Matricola, Email respectively\n",
    "- Santiago Víquez Segura, 2048722, santiago.viquezsegura@studenti.unipd.it\n",
    "- Phillippe Robert, 2041505, philippe.robert@studenti.unipd.it\n",
    "- Huzaifa Fazal,"
   ]
  },
  {
   "cell_type": "markdown",
   "id": "31dfaa69",
   "metadata": {},
   "source": [
    "## Dependencies"
   ]
  },
  {
   "cell_type": "code",
   "execution_count": 16,
   "id": "374029cb",
   "metadata": {},
   "outputs": [],
   "source": [
    "import numpy as np\n",
    "import pandas as pd\n",
    "import matplotlib.pyplot as plt\n",
    "from sklearn.model_selection import cross_validate\n",
    "from sklearn.ensemble import  RandomForestClassifier\n",
    "from sklearn.linear_model import LogisticRegression\n",
    "from xgboost import XGBClassifier\n",
    "from sklearn import svm\n",
    "import shap"
   ]
  },
  {
   "cell_type": "markdown",
   "id": "30838fe2",
   "metadata": {},
   "source": [
    "## Load datasets"
   ]
  },
  {
   "cell_type": "code",
   "execution_count": 33,
   "id": "16a54875",
   "metadata": {},
   "outputs": [],
   "source": [
    "BF_CTU_df = pd.read_csv(\"data/BF_df_CTU.csv\", delimiter=\",\")\n",
    "BF_OU_df = pd.read_csv(\"data/BF_df_OU.csv\", delimiter=\",\")\n",
    "BF_V_df = pd.read_csv(\"data/BF_df_V.csv\", delimiter=\",\")\n",
    "DT_CC_df = pd.read_csv(\"data/DT_df_CC.csv\", delimiter=\",\")\n",
    "DT_JI_df = pd.read_csv(\"data/DT_df_JI.csv\", delimiter=\";\")\n",
    "IADQ_df = pd.read_csv(\"data/IADQ_df.csv\", delimiter=\",\")\n",
    "IESR_df = pd.read_csv(\"data/IESR_df.csv\", delimiter=\",\")\n",
    "NAQR_df = pd.read_csv(\"data/NAQ_R_df.csv\", delimiter=\";\")\n",
    "PCL5_df = pd.read_csv(\"data/PCL5_df.csv\", delimiter=\";\")\n",
    "PHQ9_df = pd.read_csv(\"data/PHQ9_GAD7_df.csv\", delimiter=\";\")\n",
    "PID5_df = pd.read_csv(\"data/PID5_df.csv\", delimiter=\";\")\n",
    "PRFQ_df = pd.read_csv(\"data/PRFQ_df.csv\", delimiter=\",\")\n",
    "PRMQ_df = pd.read_csv(\"data/PRMQ_df.csv\", delimiter=\",\")\n",
    "DDDT_df = pd.read_csv(\"data/RAW_DDDT.CSV\", delimiter=\",\")\n",
    "SPID5_df = pd.read_csv(\"data/sPID-5_df.csv\", delimiter=\",\")\n",
    "RNEOPI_honest_df = pd.read_excel(\"data/Honest.xlsx\", header=1)\n",
    "RNEOPI_fake_df = pd.read_excel(\"data/Faked.xlsx\", header=1)"
   ]
  },
  {
   "cell_type": "markdown",
   "id": "142156d1",
   "metadata": {},
   "source": [
    "## Baseline Feature Importance"
   ]
  },
  {
   "cell_type": "code",
   "execution_count": 18,
   "id": "6cd39dd5",
   "metadata": {},
   "outputs": [],
   "source": [
    "def evaluate_clf(df, clf, cv):\n",
    "    \"\"\"\n",
    "    Performs cross-validation of a classifier over a dataset\n",
    "    \n",
    "    Args:\n",
    "        df: (pd.DataFrame) train dataset\n",
    "        clf: (sklearn fitted estimator)\n",
    "        cv: (int) number of folds\n",
    "        \n",
    "    Returns:\n",
    "        output: (dict) {fit_time:[...], score_time:[...], estimator:[...], test_score:[...]}\n",
    "    \"\"\"\n",
    "    X = df.loc[:, df.columns != 'CONDITION'] # select all columns except CONDITION\n",
    "    y = np.where(df[\"CONDITION\"] == \"H\", 1, 0)\n",
    "    output = cross_validate(clf, X, y, cv=cv, scoring='f1', return_estimator=True)\n",
    "    \n",
    "    return output"
   ]
  },
  {
   "cell_type": "code",
   "execution_count": 19,
   "id": "58b691d2",
   "metadata": {},
   "outputs": [],
   "source": [
    "def get_feature_importance(model_output):\n",
    "    \"\"\"\n",
    "    Averages feature importances / coefficient values from all the fitted estimators\n",
    "    \n",
    "    Args:\n",
    "        model_output: (list) sklearn fitted estimators\n",
    "    \n",
    "    Retruns: (dict) {predictor: value}\n",
    "    \"\"\"\n",
    "    \n",
    "    n_folds = len(output[\"estimator\"])\n",
    "    coeficients = 0\n",
    "    \n",
    "    for estimator in output[\"estimator\"]:\n",
    "        if isinstance(estimator, LogisticRegression) or isinstance(estimator, svm.SVC):\n",
    "            coeficients += estimator.coef_[0] # TODO: RF uses feature_importances insted of coef_\n",
    "        else:\n",
    "            coeficients += estimator.feature_importances_\n",
    "    coeficients = np.abs(coeficients/n_folds)\n",
    "    res = dict(zip(estimator.feature_names_in_, coeficients))\n",
    "\n",
    "    return res"
   ]
  },
  {
   "cell_type": "code",
   "execution_count": 20,
   "id": "ce2ea2a8",
   "metadata": {},
   "outputs": [],
   "source": [
    "def plot_feature_importance(feature_importance, title):\n",
    "    \"\"\"\n",
    "    Plots a bar chart of the importance/coefficients of the predictors\n",
    "    \n",
    "    Args:\n",
    "        feature_importance: (dict) dictionary with key:feature name and value:importance\n",
    "        title: (str) title of the chart\n",
    "    \"\"\"\n",
    "    \n",
    "    plt.bar(x=feature_importance.keys(), height=feature_importance.values())\n",
    "    plt.title(title)\n",
    "    plt.xlabel(\"Feature Name\")\n",
    "    plt.ylabel(\"Abs(Importance Score)\")\n",
    "    plt.show()"
   ]
  },
  {
   "cell_type": "code",
   "execution_count": null,
   "id": "0b615937",
   "metadata": {},
   "outputs": [],
   "source": [
    "def get_shap_values(model_output):\n",
    "    \"\"\"\n",
    "    Averages feature importances / coefficient values from all the fitted estimators\n",
    "    \n",
    "    Args:\n",
    "        model_output: (list) sklearn fitted estimators\n",
    "    \n",
    "    Retruns: (dict) {predictor: value}\n",
    "    \"\"\"\n",
    "    \n",
    "    n_folds = len(output[\"estimator\"])\n",
    "    coeficients = 0\n",
    "    \n",
    "    for estimator in output[\"estimator\"]:\n",
    "        explainer = shap.Explainer(estimator, X, feature_names=estimator.feature_names_in_)\n",
    "        shap_values = explainer(X)\n",
    "        \n",
    "    coeficients = np.abs(coeficients/n_folds)\n",
    "    res = dict(zip(estimator.feature_names_in_, coeficients))\n",
    "\n",
    "    return res"
   ]
  },
  {
   "cell_type": "markdown",
   "id": "faefb3f1",
   "metadata": {},
   "source": [
    "### Logistic Regression"
   ]
  },
  {
   "cell_type": "code",
   "execution_count": 37,
   "id": "b6395f77",
   "metadata": {},
   "outputs": [
    {
     "name": "stdout",
     "output_type": "stream",
     "text": [
      "Cross-Validated F1-Score: 0.8226637026072661\n"
     ]
    },
    {
     "data": {
      "image/png": "[encoded data removed]",
      "text/plain": [
       "<Figure size 640x480 with 1 Axes>"
      ]
     },
     "metadata": {},
     "output_type": "display_data"
    }
   ],
   "source": [
    "clf = LogisticRegression(solver=\"lbfgs\")\n",
    "output = evaluate_clf(BF_CTU_df, clf, cv=5)\n",
    "\n",
    "f1_score = np.mean(output[\"test_score\"])\n",
    "feature_importance_lr = get_feature_importance(output)\n",
    "\n",
    "print(f\"Cross-Validated F1-Score: {f1_score}\")\n",
    "plot_feature_importance(feature_importance_lr, title=\"Logistic Regression: BF_CTU dataset\")"
   ]
  },
  {
   "cell_type": "markdown",
   "id": "112f959d",
   "metadata": {},
   "source": [
    "### Random Forest"
   ]
  },
  {
   "cell_type": "code",
   "execution_count": 22,
   "id": "bf906f38",
   "metadata": {},
   "outputs": [
    {
     "name": "stdout",
     "output_type": "stream",
     "text": [
      "Cross-Validated F1-Score: 0.8432429393066491\n"
     ]
    },
    {
     "data": {
      "image/png": "[encoded data removed]",
      "text/plain": [
       "<Figure size 640x480 with 1 Axes>"
      ]
     },
     "metadata": {},
     "output_type": "display_data"
    }
   ],
   "source": [
    "clf = RandomForestClassifier(n_estimators=300, random_state=42)\n",
    "output = evaluate_clf(BF_CTU_df, clf, cv=5)\n",
    "\n",
    "f1_score = np.mean(output[\"test_score\"])\n",
    "feature_importance_rf = get_feature_importance(output)\n",
    "\n",
    "print(f\"Cross-Validated F1-Score: {f1_score}\")\n",
    "plot_feature_importance(feature_importance_rf, title=\"Random Forest: BF_CTU dataset\")"
   ]
  },
  {
   "cell_type": "markdown",
   "id": "8b024e43",
   "metadata": {},
   "source": [
    "### SVM"
   ]
  },
  {
   "cell_type": "code",
   "execution_count": 23,
   "id": "e2c1935d",
   "metadata": {
    "scrolled": true
   },
   "outputs": [
    {
     "name": "stdout",
     "output_type": "stream",
     "text": [
      "Cross-Validated F1-Score: 0.8316540153684902\n"
     ]
    },
    {
     "data": {
      "image/png": "[encoded data removed]",
      "text/plain": [
       "<Figure size 640x480 with 1 Axes>"
      ]
     },
     "metadata": {},
     "output_type": "display_data"
    }
   ],
   "source": [
    "clf = svm.SVC(kernel=\"linear\")\n",
    "output = evaluate_clf(BF_CTU_df, clf, cv=5)\n",
    "\n",
    "f1_score = np.mean(output[\"test_score\"])\n",
    "feature_importance_svm = get_feature_importance(output)\n",
    "\n",
    "print(f\"Cross-Validated F1-Score: {f1_score}\")\n",
    "plot_feature_importance(feature_importance_svm, title=\"SVM Classifier: BF_CTU dataset\")"
   ]
  },
  {
   "cell_type": "markdown",
   "id": "216a01c6",
   "metadata": {},
   "source": [
    "### XGBoost"
   ]
  },
  {
   "cell_type": "code",
   "execution_count": 24,
   "id": "ae9c5de6",
   "metadata": {},
   "outputs": [
    {
     "name": "stdout",
     "output_type": "stream",
     "text": [
      "Cross-Validated F1-Score: 0.8090204566675154\n"
     ]
    },
    {
     "data": {
      "image/png": "[encoded data removed]",
      "text/plain": [
       "<Figure size 640x480 with 1 Axes>"
      ]
     },
     "metadata": {},
     "output_type": "display_data"
    }
   ],
   "source": [
    "clf = XGBClassifier(random_state=42)\n",
    "output = evaluate_clf(BF_CTU_df, clf, cv=5)\n",
    "\n",
    "f1_score = np.mean(output[\"test_score\"])\n",
    "feature_importance_xgboost = get_feature_importance(output)\n",
    "\n",
    "print(f\"Cross-Validated F1-Score: {f1_score}\")\n",
    "plot_feature_importance(feature_importance_xgboost, title=\"XGBoost: BF_CTU dataset\")"
   ]
  },
  {
   "cell_type": "markdown",
   "id": "37749386",
   "metadata": {},
   "source": [
    "### Comparison: Feature Importance Accross Models without preprocessing"
   ]
  },
  {
   "cell_type": "code",
   "execution_count": 25,
   "id": "5b6f3bcd",
   "metadata": {},
   "outputs": [],
   "source": [
    "feature_importance_lr['model'] =\"logistic_reg\"\n",
    "feature_importance_rf['model'] =\"random_forest\"\n",
    "feature_importance_svm['model'] =\"svm\"\n",
    "feature_importance_xgboost['model'] =\"xgboost\""
   ]
  },
  {
   "cell_type": "code",
   "execution_count": 26,
   "id": "cf26a683",
   "metadata": {},
   "outputs": [
    {
     "data": {
      "text/html": [
       "<div>\n",
       "<style scoped>\n",
       "    .dataframe tbody tr th:only-of-type {\n",
       "        vertical-align: middle;\n",
       "    }\n",
       "\n",
       "    .dataframe tbody tr th {\n",
       "        vertical-align: top;\n",
       "    }\n",
       "\n",
       "    .dataframe thead th {\n",
       "        text-align: right;\n",
       "    }\n",
       "</style>\n",
       "<table border=\"1\" class=\"dataframe\">\n",
       "  <thead>\n",
       "    <tr style=\"text-align: right;\">\n",
       "      <th></th>\n",
       "      <th>EX1G</th>\n",
       "      <th>EX2G</th>\n",
       "      <th>A1G</th>\n",
       "      <th>A2G</th>\n",
       "      <th>C1G</th>\n",
       "      <th>C2G</th>\n",
       "      <th>ES1G</th>\n",
       "      <th>ES2G</th>\n",
       "      <th>O1G</th>\n",
       "      <th>O2G</th>\n",
       "      <th>model</th>\n",
       "    </tr>\n",
       "  </thead>\n",
       "  <tbody>\n",
       "    <tr>\n",
       "      <th>0</th>\n",
       "      <td>0.358438</td>\n",
       "      <td>0.114962</td>\n",
       "      <td>0.670508</td>\n",
       "      <td>0.461994</td>\n",
       "      <td>0.838369</td>\n",
       "      <td>1.033874</td>\n",
       "      <td>0.594218</td>\n",
       "      <td>0.692499</td>\n",
       "      <td>0.143784</td>\n",
       "      <td>0.132161</td>\n",
       "      <td>logistic_reg</td>\n",
       "    </tr>\n",
       "    <tr>\n",
       "      <th>1</th>\n",
       "      <td>0.069195</td>\n",
       "      <td>0.056196</td>\n",
       "      <td>0.129879</td>\n",
       "      <td>0.050073</td>\n",
       "      <td>0.168118</td>\n",
       "      <td>0.039335</td>\n",
       "      <td>0.208812</td>\n",
       "      <td>0.141873</td>\n",
       "      <td>0.059272</td>\n",
       "      <td>0.077248</td>\n",
       "      <td>random_forest</td>\n",
       "    </tr>\n",
       "    <tr>\n",
       "      <th>2</th>\n",
       "      <td>0.192125</td>\n",
       "      <td>0.098985</td>\n",
       "      <td>0.570788</td>\n",
       "      <td>0.289365</td>\n",
       "      <td>0.600505</td>\n",
       "      <td>0.649067</td>\n",
       "      <td>0.351442</td>\n",
       "      <td>0.546422</td>\n",
       "      <td>0.123845</td>\n",
       "      <td>0.139825</td>\n",
       "      <td>svm</td>\n",
       "    </tr>\n",
       "    <tr>\n",
       "      <th>3</th>\n",
       "      <td>0.057278</td>\n",
       "      <td>0.047660</td>\n",
       "      <td>0.086165</td>\n",
       "      <td>0.045720</td>\n",
       "      <td>0.138653</td>\n",
       "      <td>0.057703</td>\n",
       "      <td>0.372128</td>\n",
       "      <td>0.100712</td>\n",
       "      <td>0.040343</td>\n",
       "      <td>0.053638</td>\n",
       "      <td>xgboost</td>\n",
       "    </tr>\n",
       "  </tbody>\n",
       "</table>\n",
       "</div>"
      ],
      "text/plain": [
       "       EX1G      EX2G       A1G       A2G       C1G       C2G      ES1G  \\\n",
       "0  0.358438  0.114962  0.670508  0.461994  0.838369  1.033874  0.594218   \n",
       "1  0.069195  0.056196  0.129879  0.050073  0.168118  0.039335  0.208812   \n",
       "2  0.192125  0.098985  0.570788  0.289365  0.600505  0.649067  0.351442   \n",
       "3  0.057278  0.047660  0.086165  0.045720  0.138653  0.057703  0.372128   \n",
       "\n",
       "       ES2G       O1G       O2G          model  \n",
       "0  0.692499  0.143784  0.132161   logistic_reg  \n",
       "1  0.141873  0.059272  0.077248  random_forest  \n",
       "2  0.546422  0.123845  0.139825            svm  \n",
       "3  0.100712  0.040343  0.053638        xgboost  "
      ]
     },
     "execution_count": 26,
     "metadata": {},
     "output_type": "execute_result"
    }
   ],
   "source": [
    "comparison_df = pd.DataFrame.from_dict([feature_importance_lr, \n",
    "                        feature_importance_rf, \n",
    "                        feature_importance_svm,\n",
    "                        feature_importance_xgboost])\n",
    "comparison_df"
   ]
  },
  {
   "cell_type": "code",
   "execution_count": 27,
   "id": "58ccbb4b",
   "metadata": {},
   "outputs": [
    {
     "data": {
      "text/html": [
       "<div>\n",
       "<style scoped>\n",
       "    .dataframe tbody tr th:only-of-type {\n",
       "        vertical-align: middle;\n",
       "    }\n",
       "\n",
       "    .dataframe tbody tr th {\n",
       "        vertical-align: top;\n",
       "    }\n",
       "\n",
       "    .dataframe thead th {\n",
       "        text-align: right;\n",
       "    }\n",
       "</style>\n",
       "<table border=\"1\" class=\"dataframe\">\n",
       "  <thead>\n",
       "    <tr style=\"text-align: right;\">\n",
       "      <th></th>\n",
       "      <th>model</th>\n",
       "      <th>variable</th>\n",
       "      <th>value</th>\n",
       "    </tr>\n",
       "  </thead>\n",
       "  <tbody>\n",
       "    <tr>\n",
       "      <th>0</th>\n",
       "      <td>logistic_reg</td>\n",
       "      <td>EX1G</td>\n",
       "      <td>0.358438</td>\n",
       "    </tr>\n",
       "    <tr>\n",
       "      <th>1</th>\n",
       "      <td>random_forest</td>\n",
       "      <td>EX1G</td>\n",
       "      <td>0.069195</td>\n",
       "    </tr>\n",
       "    <tr>\n",
       "      <th>2</th>\n",
       "      <td>svm</td>\n",
       "      <td>EX1G</td>\n",
       "      <td>0.192125</td>\n",
       "    </tr>\n",
       "    <tr>\n",
       "      <th>3</th>\n",
       "      <td>xgboost</td>\n",
       "      <td>EX1G</td>\n",
       "      <td>0.057278</td>\n",
       "    </tr>\n",
       "    <tr>\n",
       "      <th>4</th>\n",
       "      <td>logistic_reg</td>\n",
       "      <td>EX2G</td>\n",
       "      <td>0.114962</td>\n",
       "    </tr>\n",
       "    <tr>\n",
       "      <th>5</th>\n",
       "      <td>random_forest</td>\n",
       "      <td>EX2G</td>\n",
       "      <td>0.056196</td>\n",
       "    </tr>\n",
       "    <tr>\n",
       "      <th>6</th>\n",
       "      <td>svm</td>\n",
       "      <td>EX2G</td>\n",
       "      <td>0.098985</td>\n",
       "    </tr>\n",
       "    <tr>\n",
       "      <th>7</th>\n",
       "      <td>xgboost</td>\n",
       "      <td>EX2G</td>\n",
       "      <td>0.047660</td>\n",
       "    </tr>\n",
       "    <tr>\n",
       "      <th>8</th>\n",
       "      <td>logistic_reg</td>\n",
       "      <td>A1G</td>\n",
       "      <td>0.670508</td>\n",
       "    </tr>\n",
       "    <tr>\n",
       "      <th>9</th>\n",
       "      <td>random_forest</td>\n",
       "      <td>A1G</td>\n",
       "      <td>0.129879</td>\n",
       "    </tr>\n",
       "    <tr>\n",
       "      <th>10</th>\n",
       "      <td>svm</td>\n",
       "      <td>A1G</td>\n",
       "      <td>0.570788</td>\n",
       "    </tr>\n",
       "    <tr>\n",
       "      <th>11</th>\n",
       "      <td>xgboost</td>\n",
       "      <td>A1G</td>\n",
       "      <td>0.086165</td>\n",
       "    </tr>\n",
       "    <tr>\n",
       "      <th>12</th>\n",
       "      <td>logistic_reg</td>\n",
       "      <td>A2G</td>\n",
       "      <td>0.461994</td>\n",
       "    </tr>\n",
       "    <tr>\n",
       "      <th>13</th>\n",
       "      <td>random_forest</td>\n",
       "      <td>A2G</td>\n",
       "      <td>0.050073</td>\n",
       "    </tr>\n",
       "    <tr>\n",
       "      <th>14</th>\n",
       "      <td>svm</td>\n",
       "      <td>A2G</td>\n",
       "      <td>0.289365</td>\n",
       "    </tr>\n",
       "    <tr>\n",
       "      <th>15</th>\n",
       "      <td>xgboost</td>\n",
       "      <td>A2G</td>\n",
       "      <td>0.045720</td>\n",
       "    </tr>\n",
       "    <tr>\n",
       "      <th>16</th>\n",
       "      <td>logistic_reg</td>\n",
       "      <td>C1G</td>\n",
       "      <td>0.838369</td>\n",
       "    </tr>\n",
       "    <tr>\n",
       "      <th>17</th>\n",
       "      <td>random_forest</td>\n",
       "      <td>C1G</td>\n",
       "      <td>0.168118</td>\n",
       "    </tr>\n",
       "    <tr>\n",
       "      <th>18</th>\n",
       "      <td>svm</td>\n",
       "      <td>C1G</td>\n",
       "      <td>0.600505</td>\n",
       "    </tr>\n",
       "    <tr>\n",
       "      <th>19</th>\n",
       "      <td>xgboost</td>\n",
       "      <td>C1G</td>\n",
       "      <td>0.138653</td>\n",
       "    </tr>\n",
       "    <tr>\n",
       "      <th>20</th>\n",
       "      <td>logistic_reg</td>\n",
       "      <td>C2G</td>\n",
       "      <td>1.033874</td>\n",
       "    </tr>\n",
       "    <tr>\n",
       "      <th>21</th>\n",
       "      <td>random_forest</td>\n",
       "      <td>C2G</td>\n",
       "      <td>0.039335</td>\n",
       "    </tr>\n",
       "    <tr>\n",
       "      <th>22</th>\n",
       "      <td>svm</td>\n",
       "      <td>C2G</td>\n",
       "      <td>0.649067</td>\n",
       "    </tr>\n",
       "    <tr>\n",
       "      <th>23</th>\n",
       "      <td>xgboost</td>\n",
       "      <td>C2G</td>\n",
       "      <td>0.057703</td>\n",
       "    </tr>\n",
       "    <tr>\n",
       "      <th>24</th>\n",
       "      <td>logistic_reg</td>\n",
       "      <td>ES1G</td>\n",
       "      <td>0.594218</td>\n",
       "    </tr>\n",
       "    <tr>\n",
       "      <th>25</th>\n",
       "      <td>random_forest</td>\n",
       "      <td>ES1G</td>\n",
       "      <td>0.208812</td>\n",
       "    </tr>\n",
       "    <tr>\n",
       "      <th>26</th>\n",
       "      <td>svm</td>\n",
       "      <td>ES1G</td>\n",
       "      <td>0.351442</td>\n",
       "    </tr>\n",
       "    <tr>\n",
       "      <th>27</th>\n",
       "      <td>xgboost</td>\n",
       "      <td>ES1G</td>\n",
       "      <td>0.372128</td>\n",
       "    </tr>\n",
       "    <tr>\n",
       "      <th>28</th>\n",
       "      <td>logistic_reg</td>\n",
       "      <td>ES2G</td>\n",
       "      <td>0.692499</td>\n",
       "    </tr>\n",
       "    <tr>\n",
       "      <th>29</th>\n",
       "      <td>random_forest</td>\n",
       "      <td>ES2G</td>\n",
       "      <td>0.141873</td>\n",
       "    </tr>\n",
       "    <tr>\n",
       "      <th>30</th>\n",
       "      <td>svm</td>\n",
       "      <td>ES2G</td>\n",
       "      <td>0.546422</td>\n",
       "    </tr>\n",
       "    <tr>\n",
       "      <th>31</th>\n",
       "      <td>xgboost</td>\n",
       "      <td>ES2G</td>\n",
       "      <td>0.100712</td>\n",
       "    </tr>\n",
       "    <tr>\n",
       "      <th>32</th>\n",
       "      <td>logistic_reg</td>\n",
       "      <td>O1G</td>\n",
       "      <td>0.143784</td>\n",
       "    </tr>\n",
       "    <tr>\n",
       "      <th>33</th>\n",
       "      <td>random_forest</td>\n",
       "      <td>O1G</td>\n",
       "      <td>0.059272</td>\n",
       "    </tr>\n",
       "    <tr>\n",
       "      <th>34</th>\n",
       "      <td>svm</td>\n",
       "      <td>O1G</td>\n",
       "      <td>0.123845</td>\n",
       "    </tr>\n",
       "    <tr>\n",
       "      <th>35</th>\n",
       "      <td>xgboost</td>\n",
       "      <td>O1G</td>\n",
       "      <td>0.040343</td>\n",
       "    </tr>\n",
       "    <tr>\n",
       "      <th>36</th>\n",
       "      <td>logistic_reg</td>\n",
       "      <td>O2G</td>\n",
       "      <td>0.132161</td>\n",
       "    </tr>\n",
       "    <tr>\n",
       "      <th>37</th>\n",
       "      <td>random_forest</td>\n",
       "      <td>O2G</td>\n",
       "      <td>0.077248</td>\n",
       "    </tr>\n",
       "    <tr>\n",
       "      <th>38</th>\n",
       "      <td>svm</td>\n",
       "      <td>O2G</td>\n",
       "      <td>0.139825</td>\n",
       "    </tr>\n",
       "    <tr>\n",
       "      <th>39</th>\n",
       "      <td>xgboost</td>\n",
       "      <td>O2G</td>\n",
       "      <td>0.053638</td>\n",
       "    </tr>\n",
       "  </tbody>\n",
       "</table>\n",
       "</div>"
      ],
      "text/plain": [
       "            model variable     value\n",
       "0    logistic_reg     EX1G  0.358438\n",
       "1   random_forest     EX1G  0.069195\n",
       "2             svm     EX1G  0.192125\n",
       "3         xgboost     EX1G  0.057278\n",
       "4    logistic_reg     EX2G  0.114962\n",
       "5   random_forest     EX2G  0.056196\n",
       "6             svm     EX2G  0.098985\n",
       "7         xgboost     EX2G  0.047660\n",
       "8    logistic_reg      A1G  0.670508\n",
       "9   random_forest      A1G  0.129879\n",
       "10            svm      A1G  0.570788\n",
       "11        xgboost      A1G  0.086165\n",
       "12   logistic_reg      A2G  0.461994\n",
       "13  random_forest      A2G  0.050073\n",
       "14            svm      A2G  0.289365\n",
       "15        xgboost      A2G  0.045720\n",
       "16   logistic_reg      C1G  0.838369\n",
       "17  random_forest      C1G  0.168118\n",
       "18            svm      C1G  0.600505\n",
       "19        xgboost      C1G  0.138653\n",
       "20   logistic_reg      C2G  1.033874\n",
       "21  random_forest      C2G  0.039335\n",
       "22            svm      C2G  0.649067\n",
       "23        xgboost      C2G  0.057703\n",
       "24   logistic_reg     ES1G  0.594218\n",
       "25  random_forest     ES1G  0.208812\n",
       "26            svm     ES1G  0.351442\n",
       "27        xgboost     ES1G  0.372128\n",
       "28   logistic_reg     ES2G  0.692499\n",
       "29  random_forest     ES2G  0.141873\n",
       "30            svm     ES2G  0.546422\n",
       "31        xgboost     ES2G  0.100712\n",
       "32   logistic_reg      O1G  0.143784\n",
       "33  random_forest      O1G  0.059272\n",
       "34            svm      O1G  0.123845\n",
       "35        xgboost      O1G  0.040343\n",
       "36   logistic_reg      O2G  0.132161\n",
       "37  random_forest      O2G  0.077248\n",
       "38            svm      O2G  0.139825\n",
       "39        xgboost      O2G  0.053638"
      ]
     },
     "execution_count": 27,
     "metadata": {},
     "output_type": "execute_result"
    }
   ],
   "source": [
    "comparison_df = comparison_df.melt(id_vars=[\"model\"])\n",
    "comparison_df"
   ]
  },
  {
   "cell_type": "code",
   "execution_count": 28,
   "id": "eafb6ce5",
   "metadata": {},
   "outputs": [
    {
     "data": {
      "text/plain": [
       "<AxesSubplot:xlabel='variable', ylabel='value'>"
      ]
     },
     "execution_count": 28,
     "metadata": {},
     "output_type": "execute_result"
    },
    {
     "data": {
      "image/png": "[encoded data removed]",
      "text/plain": [
       "<Figure size 640x480 with 1 Axes>"
      ]
     },
     "metadata": {},
     "output_type": "display_data"
    }
   ],
   "source": [
    "import seaborn as sns\n",
    "sns.barplot(data=comparison_df, x=\"variable\", y=\"value\", hue=\"model\")\n",
    "\n",
    "# IDEAS, Questions about this\n",
    "# If we only care about the order of importance\n",
    "# Should we put every importance/coefficient value in the same scale as the others?\n",
    "# Instead on only comparing with bar charts maybe implement a metric like (Jaro) https://datascience.stackexchange.com/questions/46727/calculating-similarity-where-order-matters\n",
    "# To check the difference between importances across models, taking into account the order of importance"
   ]
  },
  {
   "cell_type": "markdown",
   "id": "f13d754c",
   "metadata": {},
   "source": [
    "## Shapley Values test"
   ]
  },
  {
   "cell_type": "code",
   "execution_count": 92,
   "id": "3732b92b",
   "metadata": {},
   "outputs": [
    {
     "data": {
      "text/plain": [
       "{'fit_time': array([0.01703691, 0.01041412, 0.0081811 , 0.00912309, 0.0080409 ]),\n",
       " 'score_time': array([0.00306106, 0.00240993, 0.00177097, 0.00153494, 0.00131512]),\n",
       " 'estimator': [LogisticRegression(),\n",
       "  LogisticRegression(),\n",
       "  LogisticRegression(),\n",
       "  LogisticRegression(),\n",
       "  LogisticRegression()],\n",
       " 'test_score': array([0.79545455, 0.79518072, 0.86363636, 0.83146067, 0.82758621])}"
      ]
     },
     "execution_count": 92,
     "metadata": {},
     "output_type": "execute_result"
    }
   ],
   "source": [
    "clf = LogisticRegression(solver=\"lbfgs\")\n",
    "output = evaluate_clf(BF_CTU_df, clf, cv=5)\n",
    "output"
   ]
  },
  {
   "cell_type": "code",
   "execution_count": 90,
   "id": "8c68ab11",
   "metadata": {},
   "outputs": [
    {
     "data": {
      "image/png": "[encoded data removed]",
      "text/plain": [
       "<Figure size 800x650 with 1 Axes>"
      ]
     },
     "metadata": {},
     "output_type": "display_data"
    }
   ],
   "source": [
    "X = BF_CTU_df.loc[:, BF_CTU_df.columns != 'CONDITION'] # select all columns except CONDITION\n",
    "y = np.where(BF_CTU_df[\"CONDITION\"] == \"H\", 1, 0)\n",
    "\n",
    "model = RandomForestClassifier().fit(X,y)\n",
    "\n",
    "explainer = shap.Explainer(model, X)\n",
    "shap_values = explainer(X)\n",
    "shap.plots.bar(shap_values[:,:,1])"
   ]
  },
  {
   "cell_type": "markdown",
   "id": "f4a761b4",
   "metadata": {},
   "source": [
    "## Feature Selection Methods"
   ]
  },
  {
   "cell_type": "markdown",
   "id": "c58a9036",
   "metadata": {},
   "source": [
    "### PCA"
   ]
  },
  {
   "cell_type": "markdown",
   "id": "5dce5bd9",
   "metadata": {},
   "source": [
    "### Chi-Square"
   ]
  },
  {
   "cell_type": "markdown",
   "id": "c66fb717",
   "metadata": {},
   "source": [
    "### Autoencoder Thing"
   ]
  },
  {
   "cell_type": "markdown",
   "id": "1a2f64ef",
   "metadata": {},
   "source": [
    "### Sparce-PCA"
   ]
  },
  {
   "cell_type": "markdown",
   "id": "122419d5",
   "metadata": {},
   "source": [
    "### Etc"
   ]
  },
  {
   "cell_type": "markdown",
   "id": "523ef1bc",
   "metadata": {},
   "source": [
    "Feature importance scores can be fed to a wrapper model, such as the \"SelectFromModel\" class, to perform feature selection.\n",
    "\n",
    "Way to calculate features importances:\n",
    "- Coefficient statistic between each features"
   ]
  }
 ],
 "metadata": {
  "kernelspec": {
   "display_name": "Python 3 (ipykernel)",
   "language": "python",
   "name": "python3"
  },
  "language_info": {
   "codemirror_mode": {
    "name": "ipython",
    "version": 3
   },
   "file_extension": ".py",
   "mimetype": "text/x-python",
   "name": "python",
   "nbconvert_exporter": "python",
   "pygments_lexer": "ipython3",
   "version": "3.8.15"
  },
  "vscode": {
   "interpreter": {
    "hash": "7aea7e1af0c44a7cdbaa540a5558a97e5f0e73b4bbd305bc21454dd5d4dcc187"
   }
  }
 },
 "nbformat": 4,
 "nbformat_minor": 5
}
