{
 "cells": [
  {
   "cell_type": "markdown",
   "id": "7e608c09",
   "metadata": {},
   "source": [
    "# Lie Detection: Reliability of Relevant Predictors in Classifiers"
   ]
  },
  {
   "cell_type": "markdown",
   "id": "b3172474",
   "metadata": {},
   "source": [
    "[INTRODUCTION OF THE PROBLEM HERE]\n",
    "\n",
    "### Datasets:\n",
    "[ADD AND COMMENT ABOUT DATASETS HERE]\n",
    "### Tasks:\n",
    "[ADD TASK HERE]\n",
    "\n",
    "### Integrants:\n",
    "Name, Matricola, Email respectively\n",
    "- Santiago Víquez Segura, 2048722, santiago.viquezsegura@studenti.unipd.it\n",
    "- Phillippe Robert, 2041505, philippe.robert@studenti.unipd.it\n",
    "- Huzaifa Fazal,"
   ]
  },
  {
   "cell_type": "markdown",
   "id": "31dfaa69",
   "metadata": {},
   "source": [
    "## Dependencies"
   ]
  },
  {
   "cell_type": "code",
   "execution_count": 3,
   "id": "374029cb",
   "metadata": {},
   "outputs": [],
   "source": [
    "import numpy as np\n",
    "import pandas as pd\n",
    "import matplotlib.pyplot as plt\n",
    "from sklearn.model_selection import cross_validate\n",
    "from sklearn.ensemble import  RandomForestClassifier\n",
    "from sklearn.linear_model import LogisticRegression"
   ]
  },
  {
   "cell_type": "markdown",
   "id": "30838fe2",
   "metadata": {},
   "source": [
    "## Load datasets"
   ]
  },
  {
   "cell_type": "code",
   "execution_count": 4,
   "id": "16a54875",
   "metadata": {},
   "outputs": [],
   "source": [
    "BF_CTU_df = pd.read_csv(\"data/BF_df_CTU.csv\", delimiter=\",\")\n",
    "BF_OU_df = pd.read_csv(\"data/BF_df_OU.csv\", delimiter=\",\")\n",
    "BF_V_df = pd.read_csv(\"data/BF_df_V.csv\", delimiter=\",\")\n",
    "DT_CC_df = pd.read_csv(\"data/DT_df_CC.csv\", delimiter=\",\")\n",
    "DT_JI_df = pd.read_csv(\"data/DT_df_JI.csv\", delimiter=\";\")\n",
    "IADQ_df = pd.read_csv(\"data/IADQ_df.csv\", delimiter=\",\")\n",
    "IESR_df = pd.read_csv(\"data/IESR_df.csv\", delimiter=\",\")\n",
    "NAQR_df = pd.read_csv(\"data/NAQ_R_df.csv\", delimiter=\";\")\n",
    "PCL5_df = pd.read_csv(\"data/PCL5_df.csv\", delimiter=\";\")\n",
    "PHQ9_df = pd.read_csv(\"data/PHQ9_GAD7_df.csv\", delimiter=\";\")\n",
    "PID5_df = pd.read_csv(\"data/PID5_df.csv\", delimiter=\";\")\n",
    "PRFQ_df = pd.read_csv(\"data/PRFQ_df.csv\", delimiter=\",\")\n",
    "PRMQ_df = pd.read_csv(\"data/PRMQ_df.csv\", delimiter=\",\")\n",
    "DDDT_df = pd.read_csv(\"data/RAW_DDDT.CSV\", delimiter=\",\")\n",
    "SPID5_df = pd.read_csv(\"data/sPID-5_df.csv\", delimiter=\",\")\n",
    "RNEOPI_honest_df = pd.read_excel(\"data/Honest.xlsx\", header=1)\n",
    "RNEOPI_fake_df = pd.read_excel(\"data/Faked.xlsx\", header=1)"
   ]
  },
  {
   "cell_type": "code",
   "execution_count": null,
   "id": "42c97255",
   "metadata": {},
   "outputs": [],
   "source": []
  },
  {
   "cell_type": "markdown",
   "id": "142156d1",
   "metadata": {},
   "source": [
    "## Baseline Feature Importance"
   ]
  },
  {
   "cell_type": "code",
   "execution_count": 17,
   "id": "6cd39dd5",
   "metadata": {},
   "outputs": [],
   "source": [
    "def evaluate_clf(df, clf, cv):\n",
    "    \"\"\"\n",
    "    Performs cross-validation of a classifier over a dataset\n",
    "    \n",
    "    Args:\n",
    "        df: (pd.DataFrame) train dataset\n",
    "        clf: (sklearn fitted estimator)\n",
    "        cv: (int) number of folds\n",
    "        \n",
    "    Returns:\n",
    "        output: (dict) {fit_time:[...], score_time:[...], estimator:[...], test_score:[...]\n",
    "    \"\"\"\n",
    "    \n",
    "    X = df.loc[:, df.columns != 'CONDITION'] # select all columns except CONDITION\n",
    "    y = np.where(df[\"CONDITION\"] == \"H\", 1, 0)\n",
    "    output = cross_validate(clf, X, y, cv=cv, scoring='f1', return_estimator=True)\n",
    "    \n",
    "    return output"
   ]
  },
  {
   "cell_type": "code",
   "execution_count": 18,
   "id": "58b691d2",
   "metadata": {},
   "outputs": [],
   "source": [
    "def get_feature_importance(model_output):\n",
    "    \"\"\"\n",
    "    Averages feature importances / coefficient values from all the fitted estimators\n",
    "    \n",
    "    Args:\n",
    "        model_output: (list) sklearn fitted estimators\n",
    "    \n",
    "    Retruns: (dict) {predictor: value}\n",
    "    \"\"\"\n",
    "    \n",
    "    n_folds = len(output[\"estimator\"])\n",
    "    n_features = output[\"estimator\"][0].n_features_in_\n",
    "\n",
    "    coeficients = np.zeros(n_features)\n",
    "    for estimator in output[\"estimator\"]:\n",
    "        if isinstance(estimator, LogisticRegression):\n",
    "            coeficients += estimator.coef_[0] # TODO: RF uses feature_importances insted of coef_\n",
    "        else:\n",
    "            coeficients += estimator.feature_importances_[0]\n",
    "    coeficients = coeficients/n_folds\n",
    "    res = dict(zip(estimator.feature_names_in_, coeficients))\n",
    "\n",
    "    return res"
   ]
  },
  {
   "cell_type": "code",
   "execution_count": 19,
   "id": "ce2ea2a8",
   "metadata": {},
   "outputs": [],
   "source": [
    "def plot_feature_importance(feature_importance, title):\n",
    "    \"\"\"\n",
    "    Plots a bar chart of the importance/coefficients of the predictors\n",
    "    \n",
    "    Args:\n",
    "        feature_importance: (dict) dictionary with key:feature name and value:importance\n",
    "        title: (str) title of the chart\n",
    "    \"\"\"\n",
    "    \n",
    "    plt.bar(x=feature_importance.keys(), height=feature_importance.values())\n",
    "    plt.title(title)\n",
    "    plt.xlabel(\"Feature Name\")\n",
    "    plt.ylabel(\"Importance Score\")\n",
    "    plt.show()"
   ]
  },
  {
   "cell_type": "markdown",
   "id": "faefb3f1",
   "metadata": {},
   "source": [
    "### Logistic Regression"
   ]
  },
  {
   "cell_type": "code",
   "execution_count": 21,
   "id": "b6395f77",
   "metadata": {},
   "outputs": [
    {
     "name": "stdout",
     "output_type": "stream",
     "text": [
      "Cross-Validated F1-Score: 0.8226637026072661\n"
     ]
    },
    {
     "data": {
      "image/png": "[encoded data removed]",
      "text/plain": [
       "<Figure size 432x288 with 1 Axes>"
      ]
     },
     "metadata": {
      "needs_background": "light"
     },
     "output_type": "display_data"
    }
   ],
   "source": [
    "clf = LogisticRegression(solver=\"lbfgs\")\n",
    "output = evaluate_clf(BF_CTU_df, clf, cv=5)\n",
    "\n",
    "f1_score = np.mean(output[\"test_score\"])\n",
    "feature_importance = get_feature_importance(output)\n",
    "\n",
    "print(f\"Cross-Validated F1-Score: {f1_score}\")\n",
    "plot_feature_importance(feature_importance, title=\"Logistic Regression: BF_CTU dataset\")"
   ]
  },
  {
   "cell_type": "markdown",
   "id": "112f959d",
   "metadata": {},
   "source": [
    "### Random Forest"
   ]
  },
  {
   "cell_type": "code",
   "execution_count": 30,
   "id": "bf906f38",
   "metadata": {},
   "outputs": [
    {
     "name": "stdout",
     "output_type": "stream",
     "text": [
      "Cross-Validated Accuracy: 0.8417517875383045\n"
     ]
    },
    {
     "data": {
      "image/png": "[encoded data removed]",
      "text/plain": [
       "<Figure size 432x288 with 1 Axes>"
      ]
     },
     "metadata": {
      "needs_background": "light"
     },
     "output_type": "display_data"
    }
   ],
   "source": [
    "clf = RandomForestClassifier(n_estimators=300, random_state=42)\n",
    "output = evaluate_clf(BF_CTU_df, clf, cv=5)\n",
    "\n",
    "accuracy = np.mean(output[\"test_score\"])\n",
    "feature_importance = get_feature_importance(output)\n",
    "\n",
    "print(f\"Cross-Validated Accuracy: {accuracy}\")\n",
    "plot_feature_importance(feature_importance, title=\"Random Forest: BF_CTU dataset\")"
   ]
  },
  {
   "cell_type": "markdown",
   "id": "938bb8dc",
   "metadata": {},
   "source": [
    "### SVM"
   ]
  },
  {
   "cell_type": "code",
   "execution_count": 1,
   "id": "e2c1935d",
   "metadata": {},
   "outputs": [],
   "source": [
    "# TODO: fit a SVM classifier get f1-score and plot feature importances"
   ]
  },
  {
   "cell_type": "markdown",
   "id": "dcbe3c13",
   "metadata": {},
   "source": [
    "### XGBoost"
   ]
  },
  {
   "cell_type": "code",
   "execution_count": 2,
   "id": "149016c5",
   "metadata": {},
   "outputs": [],
   "source": [
    "# TODO: fit a XGBoost classifier get f1-score and plot feature importances"
   ]
  }
 ],
 "metadata": {
  "kernelspec": {
   "display_name": "Python 3 (ipykernel)",
   "language": "python",
   "name": "python3"
  },
  "language_info": {
   "codemirror_mode": {
    "name": "ipython",
    "version": 3
   },
   "file_extension": ".py",
   "mimetype": "text/x-python",
   "name": "python",
   "nbconvert_exporter": "python",
   "pygments_lexer": "ipython3",
   "version": "3.10.6"
  }
 },
 "nbformat": 4,
 "nbformat_minor": 5
}
